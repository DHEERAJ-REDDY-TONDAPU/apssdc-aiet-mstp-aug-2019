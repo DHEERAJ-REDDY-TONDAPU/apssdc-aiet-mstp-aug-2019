{
 "cells": [
  {
   "cell_type": "code",
   "execution_count": null,
   "metadata": {},
   "outputs": [],
   "source": [
    "Question-1: Write a Python Program to largest of three given numbers (using input statement)\n",
    "Sample:Output:"
   ]
  },
  {
   "cell_type": "code",
   "execution_count": 5,
   "metadata": {},
   "outputs": [
    {
     "name": "stdout",
     "output_type": "stream",
     "text": [
      "enter the first num10\n",
      "enter the second num20\n",
      "enter the third num30\n",
      "30 is largest\n"
     ]
    }
   ],
   "source": [
    "a=int(input(\"enter the first num\"))\n",
    "b=int(input(\"enter the second num\"))\n",
    "c=int(input(\"enter the third num\"))\n",
    "if a>b:\n",
    "    if a>c:\n",
    "        print (a,\"is largest\")\n",
    "    else:\n",
    "        print(c,\"is largest\")\n",
    "if a<c:\n",
    "    print(c,\"is largest\")"
   ]
  },
  {
   "cell_type": "code",
   "execution_count": null,
   "metadata": {},
   "outputs": [],
   "source": [
    "Question -2: Write a python program to find the given number(N) in given range(lower bound-upper bound)"
   ]
  },
  {
   "cell_type": "code",
   "execution_count": 1,
   "metadata": {},
   "outputs": [
    {
     "name": "stdout",
     "output_type": "stream",
     "text": [
      "enter lower bound num10\n",
      "enter upper bound num20\n",
      "enter N15\n",
      "give num is exist\n"
     ]
    }
   ],
   "source": [
    "F =int(input(\"enter lower bound num\"))\n",
    "L =int(input(\"enter upper bound num\"))\n",
    "N=int(input(\"enter N\"))\n",
    "if(N>F and N<L):\n",
    "    print(\"give num is exist\")\n",
    "else:\n",
    "    print(\"not in range\")"
   ]
  },
  {
   "cell_type": "code",
   "execution_count": null,
   "metadata": {},
   "outputs": [],
   "source": []
  }
 ],
 "metadata": {
  "kernelspec": {
   "display_name": "Python 3",
   "language": "python",
   "name": "python3"
  },
  "language_info": {
   "codemirror_mode": {
    "name": "ipython",
    "version": 3
   },
   "file_extension": ".py",
   "mimetype": "text/x-python",
   "name": "python",
   "nbconvert_exporter": "python",
   "pygments_lexer": "ipython3",
   "version": "3.7.3"
  }
 },
 "nbformat": 4,
 "nbformat_minor": 2
}
